{
 "cells": [
  {
   "cell_type": "code",
   "execution_count": 71,
   "metadata": {},
   "outputs": [],
   "source": [
    "import numpy as np\n",
    "import pandas as pd\n",
    "from pandas.plotting import scatter_matrix\n",
    "import matplotlib.pyplot as plt\n",
    "import sklearn\n",
    "from numpy import loadtxt\n",
    "from xgboost import XGBClassifier\n",
    "from sklearn.model_selection import train_test_split\n",
    "from sklearn.metrics import accuracy_score\n",
    "\n",
    "\n",
    "\n",
    "\n",
    "\n",
    "\n",
    "   \n",
    "\n",
    "\n",
    "\n",
    "\n"
   ]
  },
  {
   "cell_type": "code",
   "execution_count": 72,
   "metadata": {},
   "outputs": [
    {
     "name": "stderr",
     "output_type": "stream",
     "text": [
      "/usr/lib/python3/dist-packages/IPython/core/interactiveshell.py:2718: DtypeWarning: Columns (7) have mixed types. Specify dtype option on import or set low_memory=False.\n",
      "  interactivity=interactivity, compiler=compiler, result=result)\n"
     ]
    }
   ],
   "source": [
    "store_dataset=pd.read_csv(\"store.csv\")\n",
    "train_dataset=pd.read_csv(\"train.csv\")\n",
    "\n",
    "combined_dataset=pd.merge(train_dataset,store_dataset,how=\"left\",on=\"Store\")\n",
    "\n",
    "month_dict={\"Jan\":1,\"Feb\":2,\"Mar\":3,\"Apr\":4,\"May\":5,\"Jun\":6,\"Jul\":7,\"Aug\":8,\"Sept\":9,\"Oct\":10,\"Nov\":11,\"Dec\":12}\n",
    "\n",
    "a_split=combined_dataset[\"PromoInterval\"].str.split(\",\",n=4,expand=True)\n",
    "\n",
    "\n",
    "'''for key,value in month_dict.items():\n",
    "    a_split.replace(key,value,inplace=True)'''\n",
    "    \n",
    "combined_dataset[\"PromoInterval1\"]=a_split[0]\n",
    "combined_dataset[\"PromoInterval2\"]=a_split[1]\n",
    "combined_dataset[\"PromoInterval3\"]=a_split[2]\n",
    "combined_dataset[\"PromoInterval4\"]=a_split[3]\n",
    "\n",
    "combined_dataset.drop(columns=\"PromoInterval\",inplace=True)\n",
    "\n",
    "another_split=combined_dataset[\"Date\"].str.split(\"-\",n=3,expand=True)\n",
    "\n",
    "combined_dataset[\"Day\"]=another_split[2]\n",
    "combined_dataset[\"Month\"]=another_split[1]\n",
    "combined_dataset[\"Year\"]=another_split[0]\n",
    "\n",
    "combined_dataset.drop(columns=\"Date\",inplace=True)\n",
    "combined_dataset.drop(columns=\"StoreType\",inplace=True)\n",
    "\n",
    "\n",
    "#combined_dataset[\"Assortment\"].replace(\"a\",1,inplace=True)\n",
    "#combined_dataset[\"Assortment\"].replace(\"b\",2,inplace=True)\n",
    "#combined_dataset[\"Assortment\"].replace(\"c\",3,inplace=True)"
   ]
  },
  {
   "cell_type": "code",
   "execution_count": 73,
   "metadata": {},
   "outputs": [],
   "source": [
    "combined_dataset.drop(columns=\"Id\",inplace=True)\n"
   ]
  },
  {
   "cell_type": "code",
   "execution_count": 83,
   "metadata": {},
   "outputs": [
    {
     "name": "stdout",
     "output_type": "stream",
     "text": [
      "0           4852\n",
      "1           4518\n",
      "2           6679\n",
      "3          10514\n",
      "4           4355\n",
      "5           4422\n",
      "6          10339\n",
      "7           6728\n",
      "8           6845\n",
      "9           5356\n",
      "10          7757\n",
      "11          7684\n",
      "12          5740\n",
      "13          5346\n",
      "14          9368\n",
      "15          7605\n",
      "16          6243\n",
      "17          7660\n",
      "18          6384\n",
      "19          8117\n",
      "20          6745\n",
      "21          5369\n",
      "22          5551\n",
      "23          9283\n",
      "24          9155\n",
      "25          7535\n",
      "26          8617\n",
      "27          4676\n",
      "28          6526\n",
      "29          3033\n",
      "           ...  \n",
      "1001569        0\n",
      "1001570        0\n",
      "1001571        0\n",
      "1001572        0\n",
      "1001573        0\n",
      "1001574        0\n",
      "1001575        0\n",
      "1001576        0\n",
      "1001577        0\n",
      "1001578        0\n",
      "1001579        0\n",
      "1001580     5961\n",
      "1001581        0\n",
      "1001582        0\n",
      "1001583        0\n",
      "1001584        0\n",
      "1001585        0\n",
      "1001586        0\n",
      "1001587        0\n",
      "1001588        0\n",
      "1001589        0\n",
      "1001590        0\n",
      "1001591        0\n",
      "1001592        0\n",
      "1001593        0\n",
      "1001594        0\n",
      "1001595        0\n",
      "1001596        0\n",
      "1001597        0\n",
      "1001598        0\n",
      "Name: Sales, Length: 1001599, dtype: int64\n"
     ]
    }
   ],
   "source": [
    "combined_dataset=combined_dataset[[c for c in combined_dataset if c not in [\"Sales\"]] + [\"Sales\"]]\n",
    "\n",
    "X=combined_dataset.iloc[:,0:21]\n",
    "Y=combined_dataset.iloc[:,21]\n",
    "\n",
    "print(Y)\n"
   ]
  },
  {
   "cell_type": "code",
   "execution_count": null,
   "metadata": {},
   "outputs": [],
   "source": [
    "#Encodes string values into integers\n",
    "\n",
    "label_encoder = LabelEncoder()\n",
    "label_encoder = label_encoder.fit(Y)\n",
    "label_encoded_y = label_encoder.transform(Y)\n",
    "seed = 7\n",
    "\n"
   ]
  }
 ],
 "metadata": {
  "kernelspec": {
   "display_name": "Python 3",
   "language": "python",
   "name": "python3"
  },
  "language_info": {
   "codemirror_mode": {
    "name": "ipython",
    "version": 3
   },
   "file_extension": ".py",
   "mimetype": "text/x-python",
   "name": "python",
   "nbconvert_exporter": "python",
   "pygments_lexer": "ipython3",
   "version": "3.6.5"
  }
 },
 "nbformat": 4,
 "nbformat_minor": 2
}
